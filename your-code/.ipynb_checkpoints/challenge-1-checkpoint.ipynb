{
 "cells": [
  {
   "cell_type": "markdown",
   "metadata": {},
   "source": [
    "# Challenge 1 - Tic Tac Toe\n",
    "\n",
    "In this lab you will perform deep learning analysis on a dataset of playing [Tic Tac Toe](https://en.wikipedia.org/wiki/Tic-tac-toe).\n",
    "\n",
    "There are 9 grids in Tic Tac Toe that are coded as the following picture shows:\n",
    "\n",
    "![Tic Tac Toe Grids](tttboard.jpg)\n",
    "\n",
    "In the first 9 columns of the dataset you can find which marks (`x` or `o`) exist in the grids. If there is no mark in a certain grid, it is labeled as `b`. The last column is `class` which tells you whether Player X (who always moves first in Tic Tac Toe) wins in this configuration. Note that when `class` has the value `False`, it means either Player O wins the game or it ends up as a draw."
   ]
  },
  {
   "cell_type": "markdown",
   "metadata": {},
   "source": [
    "Follow the steps suggested below to conduct a neural network analysis using Tensorflow and Keras. You will build a deep learning model to predict whether Player X wins the game or not.\n",
    "\n",
    "## Step 1: Data Engineering\n",
    "\n",
    "This dataset is almost in the ready-to-use state so you do not need to worry about missing values and so on. Still, some simple data engineering is needed.\n",
    "\n",
    "1. Read `tic-tac-toe.csv` into a dataframe.\n",
    "1. Inspect the dataset. Determine if the dataset is reliable by eyeballing the data.\n",
    "1. Convert the categorical values to numeric in all columns.\n",
    "1. Separate the inputs and output.\n",
    "1. Normalize the input data."
   ]
  },
  {
   "cell_type": "code",
   "execution_count": 1,
   "metadata": {},
   "outputs": [],
   "source": [
    "import pandas as pd\n",
    "import numpy as np\n",
    "import tensorflow as tf\n",
    "from keras.models import Sequential\n",
    "from keras.layers import Dense\n",
    "from keras.utils import to_categorical\n",
    "from sklearn.model_selection import train_test_split"
   ]
  },
  {
   "cell_type": "markdown",
   "metadata": {},
   "source": [
    "pip install numpy --upgrade"
   ]
  },
  {
   "cell_type": "markdown",
   "metadata": {},
   "source": [
    "pip install tensorflow --user"
   ]
  },
  {
   "cell_type": "code",
   "execution_count": 2,
   "metadata": {},
   "outputs": [
    {
     "data": {
      "text/html": [
       "<div>\n",
       "<style scoped>\n",
       "    .dataframe tbody tr th:only-of-type {\n",
       "        vertical-align: middle;\n",
       "    }\n",
       "\n",
       "    .dataframe tbody tr th {\n",
       "        vertical-align: top;\n",
       "    }\n",
       "\n",
       "    .dataframe thead th {\n",
       "        text-align: right;\n",
       "    }\n",
       "</style>\n",
       "<table border=\"1\" class=\"dataframe\">\n",
       "  <thead>\n",
       "    <tr style=\"text-align: right;\">\n",
       "      <th></th>\n",
       "      <th>TL</th>\n",
       "      <th>TM</th>\n",
       "      <th>TR</th>\n",
       "      <th>ML</th>\n",
       "      <th>MM</th>\n",
       "      <th>MR</th>\n",
       "      <th>BL</th>\n",
       "      <th>BM</th>\n",
       "      <th>BR</th>\n",
       "      <th>class</th>\n",
       "    </tr>\n",
       "  </thead>\n",
       "  <tbody>\n",
       "    <tr>\n",
       "      <th>0</th>\n",
       "      <td>1</td>\n",
       "      <td>1</td>\n",
       "      <td>1</td>\n",
       "      <td>1</td>\n",
       "      <td>-1</td>\n",
       "      <td>-1</td>\n",
       "      <td>1</td>\n",
       "      <td>-1</td>\n",
       "      <td>-1</td>\n",
       "      <td>True</td>\n",
       "    </tr>\n",
       "    <tr>\n",
       "      <th>1</th>\n",
       "      <td>1</td>\n",
       "      <td>1</td>\n",
       "      <td>1</td>\n",
       "      <td>1</td>\n",
       "      <td>-1</td>\n",
       "      <td>-1</td>\n",
       "      <td>-1</td>\n",
       "      <td>1</td>\n",
       "      <td>-1</td>\n",
       "      <td>True</td>\n",
       "    </tr>\n",
       "    <tr>\n",
       "      <th>2</th>\n",
       "      <td>1</td>\n",
       "      <td>1</td>\n",
       "      <td>1</td>\n",
       "      <td>1</td>\n",
       "      <td>-1</td>\n",
       "      <td>-1</td>\n",
       "      <td>-1</td>\n",
       "      <td>-1</td>\n",
       "      <td>1</td>\n",
       "      <td>True</td>\n",
       "    </tr>\n",
       "    <tr>\n",
       "      <th>3</th>\n",
       "      <td>1</td>\n",
       "      <td>1</td>\n",
       "      <td>1</td>\n",
       "      <td>1</td>\n",
       "      <td>-1</td>\n",
       "      <td>-1</td>\n",
       "      <td>-1</td>\n",
       "      <td>0</td>\n",
       "      <td>0</td>\n",
       "      <td>True</td>\n",
       "    </tr>\n",
       "    <tr>\n",
       "      <th>4</th>\n",
       "      <td>1</td>\n",
       "      <td>1</td>\n",
       "      <td>1</td>\n",
       "      <td>1</td>\n",
       "      <td>-1</td>\n",
       "      <td>-1</td>\n",
       "      <td>0</td>\n",
       "      <td>-1</td>\n",
       "      <td>0</td>\n",
       "      <td>True</td>\n",
       "    </tr>\n",
       "    <tr>\n",
       "      <th>...</th>\n",
       "      <td>...</td>\n",
       "      <td>...</td>\n",
       "      <td>...</td>\n",
       "      <td>...</td>\n",
       "      <td>...</td>\n",
       "      <td>...</td>\n",
       "      <td>...</td>\n",
       "      <td>...</td>\n",
       "      <td>...</td>\n",
       "      <td>...</td>\n",
       "    </tr>\n",
       "    <tr>\n",
       "      <th>953</th>\n",
       "      <td>-1</td>\n",
       "      <td>1</td>\n",
       "      <td>1</td>\n",
       "      <td>1</td>\n",
       "      <td>-1</td>\n",
       "      <td>-1</td>\n",
       "      <td>-1</td>\n",
       "      <td>1</td>\n",
       "      <td>1</td>\n",
       "      <td>False</td>\n",
       "    </tr>\n",
       "    <tr>\n",
       "      <th>954</th>\n",
       "      <td>-1</td>\n",
       "      <td>1</td>\n",
       "      <td>-1</td>\n",
       "      <td>1</td>\n",
       "      <td>1</td>\n",
       "      <td>-1</td>\n",
       "      <td>1</td>\n",
       "      <td>-1</td>\n",
       "      <td>1</td>\n",
       "      <td>False</td>\n",
       "    </tr>\n",
       "    <tr>\n",
       "      <th>955</th>\n",
       "      <td>-1</td>\n",
       "      <td>1</td>\n",
       "      <td>-1</td>\n",
       "      <td>1</td>\n",
       "      <td>-1</td>\n",
       "      <td>1</td>\n",
       "      <td>1</td>\n",
       "      <td>-1</td>\n",
       "      <td>1</td>\n",
       "      <td>False</td>\n",
       "    </tr>\n",
       "    <tr>\n",
       "      <th>956</th>\n",
       "      <td>-1</td>\n",
       "      <td>1</td>\n",
       "      <td>-1</td>\n",
       "      <td>-1</td>\n",
       "      <td>1</td>\n",
       "      <td>1</td>\n",
       "      <td>1</td>\n",
       "      <td>-1</td>\n",
       "      <td>1</td>\n",
       "      <td>False</td>\n",
       "    </tr>\n",
       "    <tr>\n",
       "      <th>957</th>\n",
       "      <td>-1</td>\n",
       "      <td>-1</td>\n",
       "      <td>1</td>\n",
       "      <td>1</td>\n",
       "      <td>1</td>\n",
       "      <td>-1</td>\n",
       "      <td>-1</td>\n",
       "      <td>1</td>\n",
       "      <td>1</td>\n",
       "      <td>False</td>\n",
       "    </tr>\n",
       "  </tbody>\n",
       "</table>\n",
       "<p>958 rows × 10 columns</p>\n",
       "</div>"
      ],
      "text/plain": [
       "     TL  TM  TR  ML  MM  MR  BL  BM  BR  class\n",
       "0     1   1   1   1  -1  -1   1  -1  -1   True\n",
       "1     1   1   1   1  -1  -1  -1   1  -1   True\n",
       "2     1   1   1   1  -1  -1  -1  -1   1   True\n",
       "3     1   1   1   1  -1  -1  -1   0   0   True\n",
       "4     1   1   1   1  -1  -1   0  -1   0   True\n",
       "..   ..  ..  ..  ..  ..  ..  ..  ..  ..    ...\n",
       "953  -1   1   1   1  -1  -1  -1   1   1  False\n",
       "954  -1   1  -1   1   1  -1   1  -1   1  False\n",
       "955  -1   1  -1   1  -1   1   1  -1   1  False\n",
       "956  -1   1  -1  -1   1   1   1  -1   1  False\n",
       "957  -1  -1   1   1   1  -1  -1   1   1  False\n",
       "\n",
       "[958 rows x 10 columns]"
      ]
     },
     "execution_count": 2,
     "metadata": {},
     "output_type": "execute_result"
    }
   ],
   "source": [
    "tictactoe = pd.read_csv('tic-tac-toe.csv')\n",
    "tictactoe.replace('x', 1, inplace=True)\n",
    "tictactoe.replace('o', -1, inplace=True)\n",
    "tictactoe.replace('b', 0, inplace=True)\n",
    "tictactoe"
   ]
  },
  {
   "cell_type": "code",
   "execution_count": 3,
   "metadata": {},
   "outputs": [],
   "source": [
    "y = np.array(tictactoe['class'])\n",
    "X = np.array(tictactoe.drop(labels='class', axis=1))"
   ]
  },
  {
   "cell_type": "markdown",
   "metadata": {},
   "source": [
    "## Step 2: Build Neural Network\n",
    "\n",
    "To build the neural network, you can refer to your own codes you wrote while following the [Deep Learning with Python, TensorFlow, and Keras tutorial](https://www.youtube.com/watch?v=wQ8BIBpya2k) in the lesson. It's pretty similar to what you will be doing in this lab.\n",
    "\n",
    "1. Split the training and test data.\n",
    "1. Create a `Sequential` model.\n",
    "1. Add several layers to your model. Make sure you use ReLU as the activation function for the middle layers. Use Softmax for the output layer because each output has a single lable and all the label probabilities add up to 1.\n",
    "1. Compile the model using `adam` as the optimizer and `sparse_categorical_crossentropy` as the loss function. For metrics, use `accuracy` for now.\n",
    "1. Fit the training data.\n",
    "1. Evaluate your neural network model with the test data.\n",
    "1. Save your model as `tic-tac-toe.model`."
   ]
  },
  {
   "cell_type": "code",
   "execution_count": 4,
   "metadata": {},
   "outputs": [
    {
     "data": {
      "text/plain": [
       "array([[0., 1.],\n",
       "       [0., 1.],\n",
       "       [1., 0.],\n",
       "       ...,\n",
       "       [0., 1.],\n",
       "       [0., 1.],\n",
       "       [0., 1.]], dtype=float32)"
      ]
     },
     "execution_count": 4,
     "metadata": {},
     "output_type": "execute_result"
    }
   ],
   "source": [
    "X_train, X_test, y_train, y_test = train_test_split(X, y, test_size = 0.2, random_state=29)\n",
    "to_categorical(y_train)"
   ]
  },
  {
   "cell_type": "code",
   "execution_count": 5,
   "metadata": {},
   "outputs": [],
   "source": [
    "model = Sequential([\n",
    "  Dense(18, activation='relu'),\n",
    "  Dense(18, activation='relu'),\n",
    "  Dense(2, activation='softmax'),   \n",
    "])"
   ]
  },
  {
   "cell_type": "code",
   "execution_count": 6,
   "metadata": {},
   "outputs": [],
   "source": [
    "model.compile(\n",
    "  optimizer='adam',\n",
    "  loss='sparse_categorical_crossentropy',\n",
    "  metrics=['accuracy'],\n",
    ")"
   ]
  },
  {
   "cell_type": "code",
   "execution_count": 7,
   "metadata": {},
   "outputs": [
    {
     "name": "stdout",
     "output_type": "stream",
     "text": [
      "Epoch 1/50\n",
      "20/20 [==============================] - 0s 632us/step - loss: 0.6663 - accuracy: 0.6162\n",
      "Epoch 2/50\n",
      "20/20 [==============================] - 0s 632us/step - loss: 0.6198 - accuracy: 0.7454\n",
      "Epoch 3/50\n",
      "20/20 [==============================] - 0s 632us/step - loss: 0.5929 - accuracy: 0.7415\n",
      "Epoch 4/50\n",
      "20/20 [==============================] - 0s 579us/step - loss: 0.5718 - accuracy: 0.7428\n",
      "Epoch 5/50\n",
      "20/20 [==============================] - 0s 632us/step - loss: 0.5538 - accuracy: 0.7493\n",
      "Epoch 6/50\n",
      "20/20 [==============================] - 0s 632us/step - loss: 0.5397 - accuracy: 0.7559\n",
      "Epoch 7/50\n",
      "20/20 [==============================] - 0s 580us/step - loss: 0.5253 - accuracy: 0.7624\n",
      "Epoch 8/50\n",
      "20/20 [==============================] - 0s 685us/step - loss: 0.5131 - accuracy: 0.7676\n",
      "Epoch 9/50\n",
      "20/20 [==============================] - 0s 632us/step - loss: 0.5005 - accuracy: 0.7742\n",
      "Epoch 10/50\n",
      "20/20 [==============================] - 0s 632us/step - loss: 0.4880 - accuracy: 0.7807\n",
      "Epoch 11/50\n",
      "20/20 [==============================] - 0s 579us/step - loss: 0.4753 - accuracy: 0.7872\n",
      "Epoch 12/50\n",
      "20/20 [==============================] - 0s 527us/step - loss: 0.4617 - accuracy: 0.7924\n",
      "Epoch 13/50\n",
      "20/20 [==============================] - 0s 579us/step - loss: 0.4474 - accuracy: 0.7924\n",
      "Epoch 14/50\n",
      "20/20 [==============================] - 0s 632us/step - loss: 0.4322 - accuracy: 0.8003\n",
      "Epoch 15/50\n",
      "20/20 [==============================] - 0s 579us/step - loss: 0.4176 - accuracy: 0.8081\n",
      "Epoch 16/50\n",
      "20/20 [==============================] - 0s 579us/step - loss: 0.4010 - accuracy: 0.8355\n",
      "Epoch 17/50\n",
      "20/20 [==============================] - 0s 579us/step - loss: 0.3837 - accuracy: 0.8512\n",
      "Epoch 18/50\n",
      "20/20 [==============================] - 0s 632us/step - loss: 0.3666 - accuracy: 0.8681\n",
      "Epoch 19/50\n",
      "20/20 [==============================] - 0s 580us/step - loss: 0.3485 - accuracy: 0.8760\n",
      "Epoch 20/50\n",
      "20/20 [==============================] - 0s 632us/step - loss: 0.3305 - accuracy: 0.8930\n",
      "Epoch 21/50\n",
      "20/20 [==============================] - 0s 579us/step - loss: 0.3116 - accuracy: 0.9034\n",
      "Epoch 22/50\n",
      "20/20 [==============================] - 0s 685us/step - loss: 0.2941 - accuracy: 0.9178\n",
      "Epoch 23/50\n",
      "20/20 [==============================] - 0s 579us/step - loss: 0.2740 - accuracy: 0.9269\n",
      "Epoch 24/50\n",
      "20/20 [==============================] - 0s 579us/step - loss: 0.2566 - accuracy: 0.9334\n",
      "Epoch 25/50\n",
      "20/20 [==============================] - 0s 579us/step - loss: 0.2376 - accuracy: 0.9426\n",
      "Epoch 26/50\n",
      "20/20 [==============================] - 0s 632us/step - loss: 0.2223 - accuracy: 0.9504\n",
      "Epoch 27/50\n",
      "20/20 [==============================] - 0s 579us/step - loss: 0.2042 - accuracy: 0.9595\n",
      "Epoch 28/50\n",
      "20/20 [==============================] - 0s 579us/step - loss: 0.1891 - accuracy: 0.9674\n",
      "Epoch 29/50\n",
      "20/20 [==============================] - 0s 632us/step - loss: 0.1745 - accuracy: 0.9661\n",
      "Epoch 30/50\n",
      "20/20 [==============================] - 0s 632us/step - loss: 0.1612 - accuracy: 0.9687\n",
      "Epoch 31/50\n",
      "20/20 [==============================] - 0s 579us/step - loss: 0.1487 - accuracy: 0.9765\n",
      "Epoch 32/50\n",
      "20/20 [==============================] - 0s 632us/step - loss: 0.1369 - accuracy: 0.9817\n",
      "Epoch 33/50\n",
      "20/20 [==============================] - 0s 685us/step - loss: 0.1262 - accuracy: 0.9804\n",
      "Epoch 34/50\n",
      "20/20 [==============================] - 0s 580us/step - loss: 0.1171 - accuracy: 0.9830\n",
      "Epoch 35/50\n",
      "20/20 [==============================] - 0s 579us/step - loss: 0.1085 - accuracy: 0.9843\n",
      "Epoch 36/50\n",
      "20/20 [==============================] - 0s 579us/step - loss: 0.1000 - accuracy: 0.9856\n",
      "Epoch 37/50\n",
      "20/20 [==============================] - 0s 579us/step - loss: 0.0934 - accuracy: 0.9856\n",
      "Epoch 38/50\n",
      "20/20 [==============================] - 0s 632us/step - loss: 0.0863 - accuracy: 0.9869\n",
      "Epoch 39/50\n",
      "20/20 [==============================] - 0s 632us/step - loss: 0.0799 - accuracy: 0.9869\n",
      "Epoch 40/50\n",
      "20/20 [==============================] - 0s 579us/step - loss: 0.0770 - accuracy: 0.9856\n",
      "Epoch 41/50\n",
      "20/20 [==============================] - 0s 632us/step - loss: 0.0699 - accuracy: 0.9869\n",
      "Epoch 42/50\n",
      "20/20 [==============================] - 0s 579us/step - loss: 0.0649 - accuracy: 0.9909\n",
      "Epoch 43/50\n",
      "20/20 [==============================] - 0s 527us/step - loss: 0.0600 - accuracy: 0.9896\n",
      "Epoch 44/50\n",
      "20/20 [==============================] - 0s 632us/step - loss: 0.0563 - accuracy: 0.9909\n",
      "Epoch 45/50\n",
      "20/20 [==============================] - 0s 632us/step - loss: 0.0525 - accuracy: 0.9909\n",
      "Epoch 46/50\n",
      "20/20 [==============================] - 0s 579us/step - loss: 0.0496 - accuracy: 0.9909\n",
      "Epoch 47/50\n",
      "20/20 [==============================] - 0s 632us/step - loss: 0.0463 - accuracy: 0.9935\n",
      "Epoch 48/50\n",
      "20/20 [==============================] - 0s 579us/step - loss: 0.0430 - accuracy: 0.9922\n",
      "Epoch 49/50\n",
      "20/20 [==============================] - 0s 632us/step - loss: 0.0405 - accuracy: 0.9922\n",
      "Epoch 50/50\n",
      "20/20 [==============================] - 0s 579us/step - loss: 0.0387 - accuracy: 0.9961\n"
     ]
    }
   ],
   "source": [
    "history = model.fit(\n",
    "  X_train,\n",
    "  y_train,\n",
    "  epochs=50,    \n",
    "  batch_size=40,\n",
    ")"
   ]
  },
  {
   "cell_type": "code",
   "execution_count": 8,
   "metadata": {},
   "outputs": [
    {
     "name": "stdout",
     "output_type": "stream",
     "text": [
      "6/6 [==============================] - 0s 801us/step - loss: 0.0660 - accuracy: 0.9844\n"
     ]
    },
    {
     "data": {
      "text/plain": [
       "[0.06604591012001038, 0.984375]"
      ]
     },
     "execution_count": 8,
     "metadata": {},
     "output_type": "execute_result"
    }
   ],
   "source": [
    "model.evaluate(\n",
    "  X_test,\n",
    "  y_test\n",
    ")"
   ]
  },
  {
   "cell_type": "markdown",
   "metadata": {},
   "source": [
    "## Step 3: Make Predictions\n",
    "\n",
    "Now load your saved model and use it to make predictions on a few random rows in the test dataset. Check if the predictions are correct."
   ]
  },
  {
   "cell_type": "code",
   "execution_count": 9,
   "metadata": {},
   "outputs": [],
   "source": [
    "model.save_weights('model.h5')"
   ]
  },
  {
   "cell_type": "code",
   "execution_count": 10,
   "metadata": {},
   "outputs": [
    {
     "data": {
      "text/plain": [
       "<tensorflow.python.training.tracking.util.CheckpointLoadStatus at 0x1b806452190>"
      ]
     },
     "execution_count": 17,
     "metadata": {},
     "output_type": "execute_result"
    }
   ],
   "source": [
    "model.load_weights('model.h5')"
   ]
  },
  {
   "cell_type": "code",
   "execution_count": 11,
   "metadata": {},
   "outputs": [
    {
     "name": "stdout",
     "output_type": "stream",
     "text": [
      "1/1 [==============================] - 0s 43ms/step\n"
     ]
    }
   ],
   "source": [
    "predictions = model.predict(X_test[:5])"
   ]
  },
  {
   "cell_type": "code",
   "execution_count": 12,
   "metadata": {},
   "outputs": [
    {
     "name": "stdout",
     "output_type": "stream",
     "text": [
      "[0 1 0 1 0]\n"
     ]
    }
   ],
   "source": [
    "print(np.argmax(predictions, axis=1))"
   ]
  },
  {
   "cell_type": "code",
   "execution_count": 13,
   "metadata": {},
   "outputs": [
    {
     "name": "stdout",
     "output_type": "stream",
     "text": [
      "[False  True False  True False]\n"
     ]
    }
   ],
   "source": [
    "print(y_test[:5])"
   ]
  },
  {
   "cell_type": "markdown",
   "metadata": {},
   "source": [
    "## Step 4: Improve Your Model\n",
    "\n",
    "Did your model achieve low loss (<0.1) and high accuracy (>0.95)? If not, try to improve your model.\n",
    "\n",
    "But how? There are so many things you can play with in Tensorflow and in the next challenge you'll learn about these things. But in this challenge, let's just do a few things to see if they will help.\n",
    "\n",
    "* Add more layers to your model. If the data are complex you need more layers. But don't use more layers than you need. If adding more layers does not improve the model performance you don't need additional layers.\n",
    "* Adjust the learning rate when you compile the model. This means you will create a custom `tf.keras.optimizers.Adam` instance where you specify the learning rate you want. Then pass the instance to `model.compile` as the optimizer.\n",
    "    * `tf.keras.optimizers.Adam` [reference](https://www.tensorflow.org/api_docs/python/tf/keras/optimizers/Adam).\n",
    "    * Don't worry if you don't understand what the learning rate does. You'll learn about it in the next challenge.\n",
    "* Adjust the number of epochs when you fit the training data to the model. Your model performance continues to improve as you train more epochs. But eventually it will reach the ceiling and the performance will stay the same."
   ]
  },
  {
   "cell_type": "code",
   "execution_count": 14,
   "metadata": {},
   "outputs": [],
   "source": [
    "# your code here"
   ]
  },
  {
   "cell_type": "markdown",
   "metadata": {},
   "source": [
    "**Which approach(es) did you find helpful to improve your model performance?**"
   ]
  },
  {
   "cell_type": "code",
   "execution_count": 15,
   "metadata": {},
   "outputs": [],
   "source": [
    "# your answer here"
   ]
  }
 ],
 "metadata": {
  "kernelspec": {
   "display_name": "Python 3 (ipykernel)",
   "language": "python",
   "name": "python3"
  },
  "language_info": {
   "codemirror_mode": {
    "name": "ipython",
    "version": 3
   },
   "file_extension": ".py",
   "mimetype": "text/x-python",
   "name": "python",
   "nbconvert_exporter": "python",
   "pygments_lexer": "ipython3",
   "version": "3.9.7"
  }
 },
 "nbformat": 4,
 "nbformat_minor": 4
}
